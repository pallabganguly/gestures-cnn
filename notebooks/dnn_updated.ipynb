{
 "cells": [
  {
   "cell_type": "code",
   "execution_count": 23,
   "metadata": {},
   "outputs": [],
   "source": [
    "import cv2                 \n",
    "import numpy as np         \n",
    "import os        \n",
    "\n",
    "from random import shuffle \n",
    "from tqdm import tqdm      "
   ]
  },
  {
   "cell_type": "code",
   "execution_count": 24,
   "metadata": {},
   "outputs": [],
   "source": [
    "# Contains 3000 Non Varying Image\n",
    "\n",
    "# TRAIN_DIR = '/home/sauradip/Desktop/cnn-tf/data/raw-data/mix'\n",
    "# TEST_DIR = '/home/sauradip/Desktop/cnn-tf/data/raw-data/mix'\n",
    "\n",
    "# Contains 5000+ Variation IMages\n",
    "\n",
    "TRAIN_DIR = '/home/pallab/gestures-cnn/images/resized'\n",
    "TEST_DIR = '/home/pallab/gestures-cnn/images/testnew/orig'"
   ]
  },
  {
   "cell_type": "code",
   "execution_count": 25,
   "metadata": {},
   "outputs": [],
   "source": [
    "IMG_SIZE = 100 # Resizing and reshaping \n",
    "LR = 1e-3 # Learning Rate is 0.001"
   ]
  },
  {
   "cell_type": "code",
   "execution_count": 26,
   "metadata": {},
   "outputs": [],
   "source": [
    "MODEL_NAME = 'gesture-{}-{}.model'.format(LR, 'commit') # just so we remember which saved model is which, sizes must match"
   ]
  },
  {
   "cell_type": "code",
   "execution_count": 27,
   "metadata": {},
   "outputs": [],
   "source": [
    "def label_img(img):\n",
    "    word_label = img[0]\n",
    "    # conversion to one-hot array [index,v-shape,fist,terminal]\n",
    "   \n",
    "    if word_label == 'i': return [1,0,0,0]                            \n",
    "    elif word_label == 'v': return [0,1,0,0]\n",
    "    elif word_label == 'f': return [0,0,1,0]\n",
    "    elif word_label == 't': return [0,0,0,1]"
   ]
  },
  {
   "cell_type": "code",
   "execution_count": 28,
   "metadata": {},
   "outputs": [],
   "source": [
    "def create_train_data():\n",
    "    training_data = []\n",
    "    for img in tqdm(os.listdir(TRAIN_DIR)):\n",
    "        label = label_img(img)\n",
    "        path = os.path.join(TRAIN_DIR,img)\n",
    "        img = cv2.imread(path , cv2.IMREAD_GRAYSCALE)\n",
    "        img = cv2.resize(img, (IMG_SIZE,IMG_SIZE))\n",
    "        training_data.append([np.array(img),np.array(label)])\n",
    "    shuffle(training_data)\n",
    "    np.save('train_data.npy', training_data)\n",
    "    return training_data"
   ]
  },
  {
   "cell_type": "code",
   "execution_count": 29,
   "metadata": {},
   "outputs": [],
   "source": [
    "def process_test_data():\n",
    "    testing_data = []\n",
    "    for img in tqdm(os.listdir(TEST_DIR)):\n",
    "        path = os.path.join(TEST_DIR,img)\n",
    "        img_num = img[0]\n",
    "        img = cv2.imread(path,cv2.IMREAD_GRAYSCALE)\n",
    "        img = cv2.resize(img, (IMG_SIZE,IMG_SIZE))\n",
    "        testing_data.append([np.array(img), img_num])\n",
    "        \n",
    "    shuffle(testing_data)\n",
    "    np.save('test_data.npy', testing_data)\n",
    "    return testing_data\n"
   ]
  },
  {
   "cell_type": "code",
   "execution_count": 30,
   "metadata": {},
   "outputs": [
    {
     "name": "stderr",
     "output_type": "stream",
     "text": [
      "100%|██████████| 6109/6109 [00:17<00:00, 350.96it/s]\n"
     ]
    }
   ],
   "source": [
    "train_data = create_train_data()\n",
    "# If i have already created the dataset ,i will just load it :\n",
    "#train_data = np.load('train_data.npy')"
   ]
  },
  {
   "cell_type": "code",
   "execution_count": 31,
   "metadata": {},
   "outputs": [],
   "source": [
    "import tflearn\n",
    "from tflearn.layers.conv import conv_2d, max_pool_2d\n",
    "from tflearn.layers.core import input_data, dropout, fully_connected\n",
    "from tflearn.layers.estimator import regression\n"
   ]
  },
  {
   "cell_type": "code",
   "execution_count": 32,
   "metadata": {},
   "outputs": [
    {
     "name": "stdout",
     "output_type": "stream",
     "text": [
      "(?, 20, 20, 32)\n",
      "(?, 4, 4, 64)\n",
      "(?, 1, 1, 128)\n",
      "(?, 1, 1, 256)\n",
      "(?, 1, 1, 512)\n"
     ]
    }
   ],
   "source": [
    "import tensorflow as tf\n",
    "tf.reset_default_graph()\n",
    "convnet = input_data(shape=[None, IMG_SIZE, IMG_SIZE, 1], name='input')\n",
    "\n",
    "# 7 Layered CNN Architecture with 5 Convolutional and 2 FC Layer with Dropout and Max Pooling\n",
    "\n",
    "convnet = conv_2d(convnet, 32, 5, activation='relu')\n",
    "convnet = max_pool_2d(convnet, 5)\n",
    "convnet = dropout(convnet, 0.8)\n",
    "print(convnet.shape)\n",
    "\n",
    "convnet = conv_2d(convnet, 64, 5, activation='relu')\n",
    "convnet = max_pool_2d(convnet, 5)\n",
    "convnet = dropout(convnet, 0.8)\n",
    "print(convnet.shape)\n",
    "\n",
    "convnet = conv_2d(convnet, 128, 5, activation='relu')\n",
    "convnet = max_pool_2d(convnet, 5)\n",
    "convnet = dropout(convnet, 0.8)\n",
    "print(convnet.shape)\n",
    "\n",
    "convnet = conv_2d(convnet, 256, 5, activation='relu')\n",
    "convnet = max_pool_2d(convnet, 5)\n",
    "convnet = dropout(convnet, 0.8)\n",
    "print(convnet.shape)\n",
    "\n",
    "convnet = conv_2d(convnet, 512, 5, activation='relu')\n",
    "convnet = max_pool_2d(convnet, 5)\n",
    "convnet = dropout(convnet, 0.8)\n",
    "print(convnet.shape)\n",
    "\n",
    "convnet = fully_connected(convnet, 1024, activation='relu')\n",
    "convnet = dropout(convnet, 0.8)\n",
    "\n",
    "convnet = fully_connected(convnet, 4, activation='softmax')\n",
    "convnet = regression(convnet, optimizer='adam', learning_rate=LR, loss='categorical_crossentropy', name='targets')\n",
    "\n",
    "model = tflearn.DNN(convnet, tensorboard_dir='log')"
   ]
  },
  {
   "cell_type": "code",
   "execution_count": 33,
   "metadata": {},
   "outputs": [
    {
     "name": "stdout",
     "output_type": "stream",
     "text": [
      "Training Step: 314  | total loss: \u001b[1m\u001b[32m0.59266\u001b[0m\u001b[0m | time: 112.105s\n",
      "| Adam | epoch: 005 | loss: 0.59266 - acc: 0.7897 -- iter: 3968/4000\n",
      "Training Step: 315  | total loss: \u001b[1m\u001b[32m0.58572\u001b[0m\u001b[0m | time: 122.577s\n",
      "| Adam | epoch: 005 | loss: 0.58572 - acc: 0.7889 | val_loss: 0.22772 - val_acc: 0.9407 -- iter: 4000/4000\n",
      "--\n",
      "INFO:tensorflow:/home/pallab/gestures-cnn/tfmodels/gesture-0.001-commit.model is not in all_model_checkpoint_paths. Manually adding it.\n"
     ]
    }
   ],
   "source": [
    "train=[]\n",
    "test=[]\n",
    "train = train_data[:4000] # training data\n",
    "test = train_data[4000:] # validation data\n",
    "\n",
    "X = np.array([i[0] for i in train]).reshape(-1,IMG_SIZE,IMG_SIZE,1)\n",
    "Y = [i1[1] for i1 in train]\n",
    "\n",
    "test_x = np.array([i2[0] for i2 in test]).reshape(-1,IMG_SIZE,IMG_SIZE,1)\n",
    "test_y = [i3[1] for i3 in test]\n",
    "\n",
    "model.fit({'input': X}, {'targets': Y}, n_epoch=5, validation_set=({'input': test_x}, {'targets': test_y}), \n",
    "    snapshot_step=50, show_metric=True, run_id=MODEL_NAME)\n",
    "\n",
    "model.save(\"/home/pallab/gestures-cnn/tfmodels/\"+MODEL_NAME)\n",
    "# model.save(\"/home/sauradip/Desktop/cnn-tf/model/\"+MODEL_NAME)"
   ]
  },
  {
   "cell_type": "code",
   "execution_count": 43,
   "metadata": {},
   "outputs": [
    {
     "name": "stderr",
     "output_type": "stream",
     "text": [
      "100%|██████████| 573/573 [00:01<00:00, 473.19it/s]\n"
     ]
    },
    {
     "data": {
      "image/png": "[encoded data removed]",
      "text/plain": [
       "<Figure size 432x288 with 20 Axes>"
      ]
     },
     "metadata": {},
     "output_type": "display_data"
    },
    {
     "name": "stdout",
     "output_type": "stream",
     "text": [
      "[1, 1, 4, 4, 2, 1, 4, 1, 4, 4, 3, 2, 4, 3, 4, 1, 2, 3, 3, 1] [4, 4, 5, 5, 2, 5, 5, 5, 4, 5, 5, 5, 5, 3, 5, 4, 2, 3, 3, 5]\n",
      "             precision    recall  f1-score   support\n",
      "\n",
      "          1       0.00      0.00      0.00         6\n",
      "          2       1.00      0.67      0.80         3\n",
      "          3       1.00      0.75      0.86         4\n",
      "          4       0.25      0.14      0.18         7\n",
      "          5       0.00      0.00      0.00         0\n",
      "\n",
      "avg / total       0.44      0.30      0.36        20\n",
      "\n"
     ]
    },
    {
     "name": "stderr",
     "output_type": "stream",
     "text": [
      "/home/pallab/cvp/lib/python3.5/site-packages/sklearn/metrics/classification.py:1135: UndefinedMetricWarning: Precision and F-score are ill-defined and being set to 0.0 in labels with no predicted samples.\n",
      "  'precision', 'predicted', average, warn_for)\n",
      "/home/pallab/cvp/lib/python3.5/site-packages/sklearn/metrics/classification.py:1137: UndefinedMetricWarning: Recall and F-score are ill-defined and being set to 0.0 in labels with no true samples.\n",
      "  'recall', 'true', average, warn_for)\n"
     ]
    }
   ],
   "source": [
    "import matplotlib.pyplot as plt\n",
    "# model.load(\"/home/pallab/gestures-cnn/tfmodels/\"+MODEL_NAME)\n",
    "test_data = process_test_data()\n",
    "show = 20\n",
    "col = 5\n",
    "fig=plt.figure()\n",
    "labelss = []\n",
    "predics = []\n",
    "for num,data in enumerate(test_data[:show]):\n",
    "    img_num = data[1]\n",
    "    img_data = data[0]\n",
    "    if img_num == \"i\":\n",
    "        labelss.append(1)\n",
    "    elif img_num == \"v\":\n",
    "        labelss.append(2)\n",
    "    elif img_num == \"f\":\n",
    "        labelss.append(3)\n",
    "    elif img_num == \"t\":\n",
    "        labelss.append(4)\n",
    "    \n",
    "    y = fig.add_subplot((show/col),col,num+1)\n",
    "    orig = img_data\n",
    "    data = img_data.reshape(IMG_SIZE,IMG_SIZE,1)\n",
    "    #model_out = model.predict([data])[0]\n",
    "    model_out = (model.predict([data])[0]).round()\n",
    "    if np.array_equal((model_out),np.array([1.,0.,0.,0.])):\n",
    "        str_label='index'\n",
    "        predics.append(1)\n",
    "    elif np.array_equal((model_out),np.array([0.,1.,0.,0.]) ): \n",
    "        str_label='vshape'\n",
    "        predics.append(2)\n",
    "    elif np.array_equal((model_out) , np.array([0.,0.,1.,0.])): \n",
    "        str_label='fist'\n",
    "        predics.append(3)\n",
    "    elif np.array_equal((model_out) , np.array([0.,0.,0.,1.])): \n",
    "        str_label='thumb'\n",
    "        predics.append(4)\n",
    "    else:\n",
    "        str_label = \"None\"\n",
    "        predics.append(5)\n",
    "    \n",
    "    y.imshow(orig,cmap='gray')\n",
    "    plt.title(str_label)\n",
    "    y.axes.get_xaxis().set_visible(False)\n",
    "    y.axes.get_yaxis().set_visible(False)\n",
    "\n",
    "plt.tight_layout()\n",
    "plt.show()\n",
    "\n",
    "print(labelss, predics)\n",
    "from sklearn.metrics import classification_report\n",
    "\n",
    "print(classification_report(labelss, predics))\n",
    "\n",
    "#print('Precision of the Model is '+str(precision*100) + ' %')"
   ]
  },
  {
   "cell_type": "code",
   "execution_count": 35,
   "metadata": {},
   "outputs": [
    {
     "name": "stdout",
     "output_type": "stream",
     "text": [
      "[]\n"
     ]
    }
   ],
   "source": [
    "print(predics)"
   ]
  },
  {
   "cell_type": "code",
   "execution_count": 53,
   "metadata": {},
   "outputs": [
    {
     "name": "stdout",
     "output_type": "stream",
     "text": [
      "INFO:tensorflow:Restoring parameters from /home/sauradip/Desktop/cnn-tf/model/gesture-0.001-7_new_data_conv-basic.model\n"
     ]
    }
   ],
   "source": [
    "model.load(\"/home/pallab/gestures-cnn/tfmodels/\"+MODEL_NAME)"
   ]
  },
  {
   "cell_type": "code",
   "execution_count": null,
   "metadata": {},
   "outputs": [],
   "source": []
  },
  {
   "cell_type": "code",
   "execution_count": 33,
   "metadata": {},
   "outputs": [
    {
     "data": {
      "text/plain": [
       "1.0"
      ]
     },
     "execution_count": 33,
     "metadata": {},
     "output_type": "execute_result"
    }
   ],
   "source": [
    "print(precision)\n"
   ]
  },
  {
   "cell_type": "code",
   "execution_count": null,
   "metadata": {},
   "outputs": [],
   "source": []
  }
 ],
 "metadata": {
  "kernelspec": {
   "display_name": "Python 3",
   "language": "python",
   "name": "python3"
  },
  "language_info": {
   "codemirror_mode": {
    "name": "ipython",
    "version": 3
   },
   "file_extension": ".py",
   "mimetype": "text/x-python",
   "name": "python",
   "nbconvert_exporter": "python",
   "pygments_lexer": "ipython3",
   "version": "3.5.2"
  }
 },
 "nbformat": 4,
 "nbformat_minor": 2
}

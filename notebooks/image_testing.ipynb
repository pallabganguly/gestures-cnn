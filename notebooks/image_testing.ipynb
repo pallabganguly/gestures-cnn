{
 "cells": [
  {
   "cell_type": "markdown",
   "metadata": {},
   "source": [
    "Jupyter notebook for quickly testing accuracy/F1-score"
   ]
  },
  {
   "cell_type": "markdown",
   "metadata": {},
   "source": [
    "imports necessary packages"
   ]
  },
  {
   "cell_type": "code",
   "execution_count": 6,
   "metadata": {},
   "outputs": [],
   "source": [
    "import os\n",
    "import numpy as np\n",
    "import cv2\n",
    "from matplotlib import pyplot as plt"
   ]
  },
  {
   "cell_type": "code",
   "execution_count": 7,
   "metadata": {},
   "outputs": [],
   "source": [
    "from random import shuffle \n",
    "from tqdm import tqdm"
   ]
  },
  {
   "cell_type": "code",
   "execution_count": 8,
   "metadata": {},
   "outputs": [
    {
     "name": "stdout",
     "output_type": "stream",
     "text": [
      "WARNING:tensorflow:From /home/pallab/cvp/lib/python3.5/site-packages/tensorflow/contrib/learn/python/learn/datasets/base.py:198: retry (from tensorflow.contrib.learn.python.learn.datasets.base) is deprecated and will be removed in a future version.\n",
      "Instructions for updating:\n",
      "Use the retry module or similar alternatives.\n",
      "hdf5 is not supported on this machine (please install/reinstall h5py for optimal experience)\n"
     ]
    }
   ],
   "source": [
    "import tflearn\n",
    "from tflearn.layers.conv import conv_2d, max_pool_2d\n",
    "from tflearn.layers.core import input_data, dropout, fully_connected\n",
    "from tflearn.layers.estimator import regression\n",
    "\n",
    "import tensorflow as tf"
   ]
  },
  {
   "cell_type": "markdown",
   "metadata": {},
   "source": [
    "Define constants and directories"
   ]
  },
  {
   "cell_type": "code",
   "execution_count": 18,
   "metadata": {},
   "outputs": [],
   "source": [
    "LR = 1e-3\n",
    "IMG_DIR = '/home/pallab/gestures-cnn/images/qtest/'\n",
    "IMG_SIZE = 100\n",
    "MODEL_DIR = '/home/pallab/gestures-cnn/tfmodels/'\n",
    "MODEL_NAME = 'gesture-{}-{}.model'.format(LR, 'commit') "
   ]
  },
  {
   "cell_type": "code",
   "execution_count": 19,
   "metadata": {},
   "outputs": [],
   "source": [
    "def process_test_data():\n",
    "    testing_data = []\n",
    "    for img in tqdm(os.listdir(IMG_DIR)):\n",
    "        path = os.path.join(IMG_DIR,img)\n",
    "        img_num = img[0]\n",
    "        img = cv2.imread(path,cv2.IMREAD_GRAYSCALE)\n",
    "        img = cv2.resize(img, (IMG_SIZE,IMG_SIZE))\n",
    "        testing_data.append([np.array(img), img_num])\n",
    "        \n",
    "    shuffle(testing_data)\n",
    "    np.save('test_data.npy', testing_data)\n",
    "    return testing_data"
   ]
  },
  {
   "cell_type": "code",
   "execution_count": 20,
   "metadata": {},
   "outputs": [
    {
     "name": "stdout",
     "output_type": "stream",
     "text": [
      "(?, 20, 20, 32)\n",
      "(?, 4, 4, 64)\n",
      "(?, 1, 1, 128)\n",
      "(?, 1, 1, 256)\n",
      "(?, 1, 1, 512)\n"
     ]
    }
   ],
   "source": [
    "tf.reset_default_graph()\n",
    "convnet = input_data(shape=[None, IMG_SIZE, IMG_SIZE, 1], name='input')\n",
    "\n",
    "# 7 Layered CNN Architecture with 5 Convolutional and 2 FC Layer with Dropout and Max Pooling\n",
    "\n",
    "convnet = conv_2d(convnet, 32, 5, activation='relu')\n",
    "convnet = max_pool_2d(convnet, 5)\n",
    "convnet = dropout(convnet, 0.8)\n",
    "print(convnet.shape)\n",
    "\n",
    "convnet = conv_2d(convnet, 64, 5, activation='relu')\n",
    "convnet = max_pool_2d(convnet, 5)\n",
    "convnet = dropout(convnet, 0.8)\n",
    "print(convnet.shape)\n",
    "\n",
    "convnet = conv_2d(convnet, 128, 5, activation='relu')\n",
    "convnet = max_pool_2d(convnet, 5)\n",
    "convnet = dropout(convnet, 0.8)\n",
    "print(convnet.shape)\n",
    "\n",
    "convnet = conv_2d(convnet, 256, 5, activation='relu')\n",
    "convnet = max_pool_2d(convnet, 5)\n",
    "convnet = dropout(convnet, 0.8)\n",
    "print(convnet.shape)\n",
    "\n",
    "convnet = conv_2d(convnet, 512, 5, activation='relu')\n",
    "convnet = max_pool_2d(convnet, 5)\n",
    "convnet = dropout(convnet, 0.8)\n",
    "print(convnet.shape)\n",
    "\n",
    "convnet = fully_connected(convnet, 1024, activation='relu')\n",
    "convnet = dropout(convnet, 0.8)\n",
    "\n",
    "convnet = fully_connected(convnet, 4, activation='softmax')\n",
    "convnet = regression(convnet, optimizer='adam', learning_rate=LR, loss='categorical_crossentropy', name='targets')"
   ]
  },
  {
   "cell_type": "code",
   "execution_count": 21,
   "metadata": {},
   "outputs": [
    {
     "name": "stdout",
     "output_type": "stream",
     "text": [
      "INFO:tensorflow:Restoring parameters from /home/pallab/gestures-cnn/tfmodels/gesture-0.001-commit.model\n"
     ]
    }
   ],
   "source": [
    "model = tflearn.DNN(convnet)\n",
    "model.load(MODEL_DIR + MODEL_NAME)"
   ]
  },
  {
   "cell_type": "code",
   "execution_count": 22,
   "metadata": {},
   "outputs": [
    {
     "name": "stderr",
     "output_type": "stream",
     "text": [
      "100%|██████████| 1/1 [00:01<00:00,  1.69s/it]\n"
     ]
    }
   ],
   "source": [
    "try:\n",
    "    test_data = np.load(IMG_DIR + 'test_data.npy')\n",
    "except (FileNotFoundError):\n",
    "    test_data = process_test_data()"
   ]
  },
  {
   "cell_type": "code",
   "execution_count": 27,
   "metadata": {},
   "outputs": [
    {
     "data": {
      "text/plain": [
       "<Figure size 432x288 with 0 Axes>"
      ]
     },
     "metadata": {},
     "output_type": "display_data"
    }
   ],
   "source": [
    "fig = plt.figure()\n",
    "mark = {\"i\": 1, \"v\": 2, \"f\": 3, \"t\": 4}\n",
    "labelss = []\n",
    "predics = []\n",
    "row, col = 1, 1"
   ]
  },
  {
   "cell_type": "code",
   "execution_count": 65,
   "metadata": {},
   "outputs": [
    {
     "name": "stdout",
     "output_type": "stream",
     "text": [
      "len = 1\n",
      "label = v\n",
      "[0.58416516 0.29919818 0.05289126 0.06374542]\n"
     ]
    }
   ],
   "source": [
    "str_label = \"\"\n",
    "print(\"len =\", len(test_data))\n",
    "# for num, data in enumerate(test_data):\n",
    "#     img_num = data[1]\n",
    "#     img_data = data[0]\n",
    "#     labelss.append(mark[img_num])\n",
    "#     y = fig.add_subplot(row, col, num+1)\n",
    "#     orig = img_data\n",
    "#     data = img_data.reshape(IMG_SIZE,IMG_SIZE,1)\n",
    "#     model_out = (model.predict([data])[0]).round()\n",
    "#     if np.array_equal((model_out),np.array([1.,0.,0.,0.])):\n",
    "#         str_label = 'index'\n",
    "#         predics.append(1)\n",
    "#     elif np.array_equal((model_out),np.array([0.,1.,0.,0.]) ): \n",
    "#         str_label = 'vshape'\n",
    "#         predics.append(2)\n",
    "#     elif np.array_equal((model_out) , np.array([0.,0.,1.,0.])): \n",
    "#         str_label = 'fist'\n",
    "#         predics.append(3)\n",
    "#     elif np.array_equal((model_out) , np.array([0.,0.,0.,1.])): \n",
    "#         str_label = 'thumb'\n",
    "#         predics.append(4)\n",
    "    \n",
    "#     y.imshow(orig,cmap='gray')\n",
    "#     plt.title(str_label)\n",
    "#     y.axes.get_xaxis().set_visible(False)\n",
    "#     y.axes.get_yaxis().set_visible(False)\n",
    "num, data = test_data[0]\n",
    "label = data\n",
    "print(\"label =\", label)\n",
    "rep = num.reshape(IMG_SIZE,IMG_SIZE,1)\n",
    "model_out = model.predict([rep])[0]\n",
    "\n",
    "print(model_out)"
   ]
  },
  {
   "cell_type": "code",
   "execution_count": 64,
   "metadata": {},
   "outputs": [
    {
     "data": {
      "text/plain": [
       "<Figure size 432x288 with 0 Axes>"
      ]
     },
     "metadata": {},
     "output_type": "display_data"
    }
   ],
   "source": [
    "plt.tight_layout()\n",
    "plt.show()"
   ]
  },
  {
   "cell_type": "code",
   "execution_count": 40,
   "metadata": {},
   "outputs": [
    {
     "name": "stdout",
     "output_type": "stream",
     "text": [
      "             precision    recall  f1-score   support\n",
      "\n",
      "          1       0.00      0.00      0.00         0\n",
      "          2       0.00      0.00      0.00         5\n",
      "\n",
      "avg / total       0.00      0.00      0.00         5\n",
      "\n"
     ]
    },
    {
     "name": "stderr",
     "output_type": "stream",
     "text": [
      "/home/pallab/cvp/lib/python3.5/site-packages/sklearn/metrics/classification.py:1135: UndefinedMetricWarning: Precision and F-score are ill-defined and being set to 0.0 in labels with no predicted samples.\n",
      "  'precision', 'predicted', average, warn_for)\n",
      "/home/pallab/cvp/lib/python3.5/site-packages/sklearn/metrics/classification.py:1137: UndefinedMetricWarning: Recall and F-score are ill-defined and being set to 0.0 in labels with no true samples.\n",
      "  'recall', 'true', average, warn_for)\n"
     ]
    }
   ],
   "source": [
    "from sklearn.metrics import classification_report\n",
    "print(classification_report(labelss, predics))"
   ]
  },
  {
   "cell_type": "code",
   "execution_count": 41,
   "metadata": {},
   "outputs": [
    {
     "name": "stdout",
     "output_type": "stream",
     "text": [
      "[2, 2, 2, 2, 2] [1, 1, 1, 1, 1]\n",
      "index\n"
     ]
    }
   ],
   "source": [
    "print(labelss, predics)\n",
    "print(str_label)"
   ]
  },
  {
   "cell_type": "code",
   "execution_count": null,
   "metadata": {},
   "outputs": [],
   "source": []
  }
 ],
 "metadata": {
  "kernelspec": {
   "display_name": "Python 3",
   "language": "python",
   "name": "python3"
  },
  "language_info": {
   "codemirror_mode": {
    "name": "ipython",
    "version": 3
   },
   "file_extension": ".py",
   "mimetype": "text/x-python",
   "name": "python",
   "nbconvert_exporter": "python",
   "pygments_lexer": "ipython3",
   "version": "3.5.2"
  }
 },
 "nbformat": 4,
 "nbformat_minor": 2
}
